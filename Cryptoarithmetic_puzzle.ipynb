{
 "cells": [
  {
   "cell_type": "code",
   "execution_count": null,
   "metadata": {},
   "outputs": [],
   "source": [
    "\"\"\"\n",
    "Solve cryptoarithmetic puzzles like ODD + ODD = EVEN\n",
    "\"\"\""
   ]
  },
  {
   "cell_type": "code",
   "execution_count": 1,
   "metadata": {},
   "outputs": [],
   "source": [
    "import string, re, itertools"
   ]
  },
  {
   "cell_type": "code",
   "execution_count": 33,
   "metadata": {},
   "outputs": [],
   "source": [
    "def solve(formula):\n",
    "    \"\"\"\n",
    "    Takes a formula\n",
    "    Replace letters with digits - fill in\n",
    "    Evaluate the expression\n",
    "    Returns fill in else None\n",
    "    \"\"\"\n",
    "    for f in fill_in(formula):\n",
    "        if valid(f):\n",
    "            return f\n",
    "    "
   ]
  },
  {
   "cell_type": "code",
   "execution_count": 38,
   "metadata": {},
   "outputs": [],
   "source": [
    "def valid(f):\n",
    "    \"\"\"\n",
    "    Takes an expression\n",
    "    Evaluate it\n",
    "    Returns True if expression is valid else False\n",
    "    \"\"\"\n",
    "    try:\n",
    "        return not re.search(r'\\b0[0-9]', f) and eval(f) is True\n",
    "    except ArithmeticError:\n",
    "        return False    "
   ]
  },
  {
   "cell_type": "code",
   "execution_count": 31,
   "metadata": {},
   "outputs": [],
   "source": [
    "def fill_in(formula):\n",
    "    \"\"\"\n",
    "    Prepare a look up table that maps letters to digits\n",
    "    Translate the formula into digits with the help of this table\n",
    "    yield the result\n",
    "    \"\"\"\n",
    "    letters = \"\".join(set([letter for letter in formula if letter.isalpha() == True]))\n",
    "    digits = itertools.permutations('0123456789', len(letters))\n",
    "    for digit in digits:\n",
    "        table = formula.maketrans(letters, ''.join(digit)) #prepare translation table\n",
    "        yield formula.translate(table)   "
   ]
  },
  {
   "cell_type": "code",
   "execution_count": 40,
   "metadata": {},
   "outputs": [
    {
     "name": "stdout",
     "output_type": "stream",
     "text": [
      "655 + 655 == 1310\n"
     ]
    }
   ],
   "source": [
    "print(solve('ODD + ODD == EVEN'))"
   ]
  },
  {
   "cell_type": "code",
   "execution_count": 88,
   "metadata": {},
   "outputs": [],
   "source": [
    "def compile_formula(formula, verbose=False):\n",
    "    \"\"\"Compile formula into a function. Also return letters found, as a str,\n",
    "    in same order as parms of function. The first digit of a multi-digit \n",
    "    number can't be 0. So if YOU is a word in the formula, and the function\n",
    "    is called with Y eqal to 0, the function should return False.\"\"\"\n",
    "    \n",
    "    # modify the code in this function.\n",
    "    \n",
    "    letters = ''.join(set(re.findall('[A-Z]', formula)))\n",
    "    parms = ', '.join(letters)\n",
    "    tokens = map(compile_word, re.split('([A-Z]+)', formula))\n",
    "    body = ''.join(tokens)\n",
    "    f = 'lambda %s: False if 0 in (%s) else %s' % (parms, parms, body)\n",
    "    if verbose: print(f)    \n",
    "    return eval(f), letters\n",
    "\n"
   ]
  },
  {
   "cell_type": "code",
   "execution_count": 89,
   "metadata": {},
   "outputs": [],
   "source": [
    "def compile_word(word):\n",
    "    \"\"\"Compile a word of uppercase letters as numeric digits.\n",
    "    E.g., compile_word('YOU') => '(1*U+10*O+100*Y)'\n",
    "    Non-uppercase words uncahanged: compile_word('+') => '+'\"\"\"\n",
    "    if word.isupper():\n",
    "        terms = [('%s*%s' % (10**i, d)) \n",
    "                 for (i, d) in enumerate(word[::-1])]\n",
    "        return '(' + '+'.join(terms) + ')'\n",
    "    else:\n",
    "        return word\n",
    "    "
   ]
  },
  {
   "cell_type": "code",
   "execution_count": 90,
   "metadata": {},
   "outputs": [
    {
     "name": "stdout",
     "output_type": "stream",
     "text": [
      "lambda *M, E, I: False if 0 in (M, E, I) else (1*I)+(1*I)==(1*E+10*M)\n"
     ]
    },
    {
     "data": {
      "text/plain": [
       "(<function __main__.<lambda>(*M, E, I)>, 'MEI')"
      ]
     },
     "execution_count": 90,
     "metadata": {},
     "output_type": "execute_result"
    }
   ],
   "source": [
    "compile_formula('I+I==ME', True)"
   ]
  },
  {
   "cell_type": "code",
   "execution_count": null,
   "metadata": {},
   "outputs": [],
   "source": []
  }
 ],
 "metadata": {
  "kernelspec": {
   "display_name": "Python 3",
   "language": "python",
   "name": "python3"
  },
  "language_info": {
   "codemirror_mode": {
    "name": "ipython",
    "version": 3
   },
   "file_extension": ".py",
   "mimetype": "text/x-python",
   "name": "python",
   "nbconvert_exporter": "python",
   "pygments_lexer": "ipython3",
   "version": "3.7.3"
  }
 },
 "nbformat": 4,
 "nbformat_minor": 2
}
