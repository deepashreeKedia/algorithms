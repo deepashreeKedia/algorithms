{
 "cells": [
  {
   "cell_type": "code",
   "execution_count": 1,
   "metadata": {},
   "outputs": [],
   "source": [
    "# Hopper, Kay, Liskov, Perlis, and Ritchie live on \n",
    "# different floors of a five-floor apartment building. \n",
    "#\n",
    "# Hopper does not live on the top floor. \n",
    "# Kay does not live on the bottom floor. \n",
    "# Liskov does not live on either the top or the bottom floor. \n",
    "# Perlis lives on a higher floor than does Kay. \n",
    "# Ritchie does not live on a floor adjacent to Liskov's. \n",
    "# Liskov does not live on a floor adjacent to Kay's. \n",
    "# \n",
    "# Where does everyone live?  \n",
    "# \n",
    "# Write a function floor_puzzle() that returns a list of\n",
    "# five floor numbers denoting the floor of Hopper, Kay, \n",
    "# Liskov, Perlis, and Ritchie.\n"
   ]
  },
  {
   "cell_type": "code",
   "execution_count": 8,
   "metadata": {},
   "outputs": [],
   "source": [
    "import itertools"
   ]
  },
  {
   "cell_type": "code",
   "execution_count": 53,
   "metadata": {},
   "outputs": [],
   "source": [
    "def floor_puzzle():\n",
    "    \"\"\"\n",
    "    \"\"\"\n",
    "    houses = bottom, _, _, _, top = [1,2,3,4,5]\n",
    "    orderings = list(itertools.permutations(houses))\n",
    "    \n",
    "    for (H, K,L,P, R) in orderings:\n",
    "        if ((H != top) \n",
    "            and (K != bottom) \n",
    "            and (L != bottom and L != top) \n",
    "            and (higher(P, K)) \n",
    "            and not adjacentTo(R, L) \n",
    "            and not adjacentTo(L, K)):\n",
    "            return (H, K, L, P, R)"
   ]
  },
  {
   "cell_type": "code",
   "execution_count": 54,
   "metadata": {},
   "outputs": [],
   "source": [
    "def higher(f1, f2):\n",
    "    \"\"\"\n",
    "    f1 is higher than f2 if f1 - f2 > 0\n",
    "    \"\"\"\n",
    "    return f1 - f2 > 0"
   ]
  },
  {
   "cell_type": "code",
   "execution_count": 55,
   "metadata": {},
   "outputs": [],
   "source": [
    "def adjacentTo(f1, f2):\n",
    "    \"\"\"\n",
    "    f1 and f2 are adjacent to each other if abs(f1-f2) = 1\n",
    "    \"\"\"\n",
    "    return abs(f1-f2) == 1"
   ]
  },
  {
   "cell_type": "code",
   "execution_count": 56,
   "metadata": {},
   "outputs": [
    {
     "name": "stdout",
     "output_type": "stream",
     "text": [
      "(3, 2, 4, 5, 1)\n"
     ]
    }
   ],
   "source": [
    "print(floor_puzzle())"
   ]
  },
  {
   "cell_type": "code",
   "execution_count": 50,
   "metadata": {},
   "outputs": [],
   "source": [
    "def floor_puzzle1():\n",
    "    # Your code here\n",
    "    houses = bottom, _, _, _, top = [1,2,3,4,5]\n",
    "    orderings = list(itertools.permutations(houses))\n",
    "    for (Hopper, Kay, Liskov, Perlis, Ritchie) in orderings:\n",
    "        if ((Hopper != top) \n",
    "            and (Kay != bottom) \n",
    "            and (Liskov != bottom and Liskov != top) \n",
    "            and (Perlis - Kay > 0) \n",
    "            and (not abs(Ritchie-Liskov) == 1) \n",
    "            and (not abs(Liskov-Kay) == 1)):\n",
    "            return [Hopper, Kay, Liskov, Perlis, Ritchie]"
   ]
  },
  {
   "cell_type": "code",
   "execution_count": 51,
   "metadata": {},
   "outputs": [
    {
     "data": {
      "text/plain": [
       "[3, 2, 4, 5, 1]"
      ]
     },
     "execution_count": 51,
     "metadata": {},
     "output_type": "execute_result"
    }
   ],
   "source": [
    "floor_puzzle1()"
   ]
  },
  {
   "cell_type": "code",
   "execution_count": null,
   "metadata": {},
   "outputs": [],
   "source": []
  }
 ],
 "metadata": {
  "kernelspec": {
   "display_name": "Python 3",
   "language": "python",
   "name": "python3"
  },
  "language_info": {
   "codemirror_mode": {
    "name": "ipython",
    "version": 3
   },
   "file_extension": ".py",
   "mimetype": "text/x-python",
   "name": "python",
   "nbconvert_exporter": "python",
   "pygments_lexer": "ipython3",
   "version": "3.7.3"
  }
 },
 "nbformat": 4,
 "nbformat_minor": 2
}
