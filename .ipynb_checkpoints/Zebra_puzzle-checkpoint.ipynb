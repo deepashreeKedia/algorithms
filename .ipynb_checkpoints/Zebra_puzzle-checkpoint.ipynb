{
 "cells": [
  {
   "cell_type": "code",
   "execution_count": null,
   "metadata": {},
   "outputs": [],
   "source": [
    "# This notebook provides the solution for Zebra  puzzle in python.\n",
    "\"\"\"\n",
    "    1. There are five houses.\n",
    "    2. The Englishman lives in the red house.\n",
    "    3. The Spaniard owns the dog.\n",
    "    4. Coffee is drunk in the green house.\n",
    "    5. The Ukrainian drinks tea.\n",
    "    6. The green house is immediately to the right of the ivory house.\n",
    "    7. The Old Gold smoker owns snails.\n",
    "    8. Kools are smoked in the yellow house.\n",
    "    9. Milk is drunk in the middle house.\n",
    "    10. The Norwegian lives in the first house.\n",
    "    11. The man who smokes Chesterfields lives in the house next to the man with the fox.\n",
    "    12. Kools are smoked in the house next to the house where the horse is kept.\n",
    "    13. The Lucky Strike smoker drinks orange juice.\n",
    "    14. The Japanese smokes Parliaments.\n",
    "    15. The Norwegian lives next to the blue house.\n",
    "    \n",
    "    Now, who drinks water? Who owns the zebra?\n",
    "\"\"\"\n"
   ]
  },
  {
   "cell_type": "code",
   "execution_count": 18,
   "metadata": {},
   "outputs": [],
   "source": [
    "import itertools"
   ]
  },
  {
   "cell_type": "code",
   "execution_count": 8,
   "metadata": {},
   "outputs": [],
   "source": [
    "def imright(h1, h2):\n",
    "    \"\"\"\n",
    "    House h1 is immediately right of h2 if h1-h2 == 1\n",
    "    \n",
    "    Arguments: h1->integer, h2->integer\n",
    "    Returns: True if h1 is right of h2, otherwise False\n",
    "    \"\"\"\n",
    "    return h1-h2 == 1"
   ]
  },
  {
   "cell_type": "code",
   "execution_count": 7,
   "metadata": {},
   "outputs": [],
   "source": [
    "# test imright\n",
    "h1 = 1\n",
    "h2 = 2\n",
    "h3 = 3\n",
    "assert(imright(h2, h1)) == True\n",
    "assert(imright(h3, h1)) == False"
   ]
  },
  {
   "cell_type": "code",
   "execution_count": 9,
   "metadata": {},
   "outputs": [],
   "source": [
    "def nextto(h1, h2):\n",
    "    \"\"\"\n",
    "    House h1 and h2 are next to each other if abs(h1-h2) == 1\n",
    "    \n",
    "    Arguments: h1->integer, h2->integer\n",
    "    Returns: True if h1 and h2 are next to each other, otherwise False\n",
    "    \"\"\"\n",
    "    \n",
    "    return abs(h1-h2) == 1"
   ]
  },
  {
   "cell_type": "code",
   "execution_count": 69,
   "metadata": {},
   "outputs": [],
   "source": [
    "\n",
    "def zebra_puzzle():\n",
    "    \"\"\"\n",
    "    There are five houses.\n",
    "    There are five different kind of house properties of each of the five house.\n",
    "    Properties: House colour, Nationality, Pet, Smoke, Drink.\n",
    "    Each property has five different kinds of possible values, corresponding to each house.\n",
    "    Property values are assigned to house numbers.\n",
    "    All the orderings are iterated along with the constraints.\n",
    "    \n",
    "    Returns: house number for WATER and ZEBRA properties.\n",
    "   \n",
    "    \"\"\"\n",
    "    houses = first, _, middle, _, _ = [1, 2, 3, 4, 5]\n",
    "    \n",
    "    # list of all possible permutations of the house numbers\n",
    "    orderings = list(itertools.permutations(houses))\n",
    "    \n",
    "    # using generator expression to stop when the first solution is achieved \n",
    "    return next((WATER, ZEBRA)\n",
    "                for (red, yellow, blue, green, ivory) in c(orderings)\n",
    "                if imright(green, ivory)\n",
    "                for (Englishman, Spaniard, Ukranian, Japanese, Norwegian) in c(orderings)\n",
    "                if Englishman is red\n",
    "                if Norwegian is first\n",
    "                if nextto(Norwegian, blue)\n",
    "                for (coffee, tea, milk, oj, WATER) in c(orderings)\n",
    "                if coffee is green\n",
    "                if Ukranian is tea\n",
    "                if milk is middle   \n",
    "                for (OldGold, Kools, Chesterfields, LuckyStrike, Parliaments) in c(orderings)\n",
    "                if Kools is yellow\n",
    "                if LuckyStrike is oj\n",
    "                if Parliaments is Japanese     \n",
    "                for (dog, snails, fox, horse, ZEBRA) in c(orderings)\n",
    "                if dog is Spaniard\n",
    "                if nextto(fox, Chesterfields)\n",
    "                if nextto(Kools, horse)\n",
    "                if  snails is OldGold)"
   ]
  },
  {
   "cell_type": "code",
   "execution_count": null,
   "metadata": {},
   "outputs": [],
   "source": [
    "zebra_puzzle() # the output says water is drunk in house number 1 and zebra is present in house number 5"
   ]
  },
  {
   "cell_type": "code",
   "execution_count": 49,
   "metadata": {},
   "outputs": [
    {
     "name": "stdout",
     "output_type": "stream",
     "text": [
      "(0.48599999999954235, (1, 5))\n"
     ]
    }
   ],
   "source": [
    "# check the time it takes to run the zebra puzzle\n",
    "import time\n",
    "def timedcall(fn, *args):  # args in the function definition mean it can take any number of arguments and form a tuple from that\n",
    "    \"\"\"\n",
    "    call function with args and return elapsed time in ms and result\n",
    "    \"\"\"\n",
    "    t0 = time.process_time()\n",
    "    result = fn(*args)   # args in the function call means to unpack the arguments in tuple and call the function\n",
    "    t1 = time.process_time()\n",
    "    return (t1-t0) * 1000, result\n",
    "\n",
    "print(timedcall(zebra_puzzle))"
   ]
  },
  {
   "cell_type": "code",
   "execution_count": 47,
   "metadata": {},
   "outputs": [],
   "source": [
    "# example of *args\n",
    "def addition(*args):\n",
    "    k = 0\n",
    "    for arg in args:   # args is a tuple. all the arguments passed are packed\n",
    "        k = k + arg \n",
    "    return k    "
   ]
  },
  {
   "cell_type": "code",
   "execution_count": 45,
   "metadata": {},
   "outputs": [
    {
     "data": {
      "text/plain": [
       "15"
      ]
     },
     "execution_count": 45,
     "metadata": {},
     "output_type": "execute_result"
    }
   ],
   "source": [
    "numbers = (1,2,3,4,5)\n",
    "addition(*numbers)    # numbers tuple is unpacked and passed to the addition function"
   ]
  },
  {
   "cell_type": "code",
   "execution_count": 51,
   "metadata": {},
   "outputs": [],
   "source": [
    "# call timedcall n number of times and return min, max, average time\n",
    "def timedcalls(n, fn, *args):\n",
    "    \"\"\"\n",
    "    call timedcall(fn, *args) n number of times.\n",
    "    \n",
    "    Returns: max, min and average time\n",
    "    \"\"\"\n",
    "    times = [timedcall(fn, *args)[0] for _ in range(n)]\n",
    "    \n",
    "    return max(times), min(times), average(times)"
   ]
  },
  {
   "cell_type": "code",
   "execution_count": 50,
   "metadata": {},
   "outputs": [],
   "source": [
    "def average(numbers):\n",
    "    \"\"\"\n",
    "    Return the average of a sequence of numbers\n",
    "    \"\"\"\n",
    "    return sum(numbers) / float(len(numbers))"
   ]
  },
  {
   "cell_type": "code",
   "execution_count": 55,
   "metadata": {},
   "outputs": [
    {
     "data": {
      "text/plain": [
       "(1.8440000000001788, 0.3819999999983281, 0.39543580000003664)"
      ]
     },
     "execution_count": 55,
     "metadata": {},
     "output_type": "execute_result"
    }
   ],
   "source": [
    "timedcalls(10000, zebra_puzzle)"
   ]
  },
  {
   "cell_type": "code",
   "execution_count": 76,
   "metadata": {},
   "outputs": [],
   "source": [
    "def instrument_fn(fn, *args):\n",
    "    \"\"\"\n",
    "    Takes a function as argument and returns the result along with number of iterations and total items\n",
    "    \"\"\"\n",
    "    c.starts, c.items = 0, 0\n",
    "    result = fn(*args)\n",
    "    print ('%s got %s with %5d iters over %7d items' %fn.__name__ %result %c.starts %c.items)\n",
    "    "
   ]
  },
  {
   "cell_type": "code",
   "execution_count": 77,
   "metadata": {},
   "outputs": [],
   "source": [
    "def c(sequence):\n",
    "    \"\"\"\n",
    "    Generate items in sequence; keeping counts as we go. c.starts is number of sequences started;\n",
    "    c.items is number of items generated\n",
    "    \"\"\"\n",
    "    c.starts += 1\n",
    "    while item in sequence:\n",
    "        c.items += 1\n",
    "        yield item"
   ]
  },
  {
   "cell_type": "code",
   "execution_count": null,
   "metadata": {},
   "outputs": [],
   "source": [
    "instrument_fn(zebra_puzzle)"
   ]
  }
 ],
 "metadata": {
  "kernelspec": {
   "display_name": "Python 3",
   "language": "python",
   "name": "python3"
  },
  "language_info": {
   "codemirror_mode": {
    "name": "ipython",
    "version": 3
   },
   "file_extension": ".py",
   "mimetype": "text/x-python",
   "name": "python",
   "nbconvert_exporter": "python",
   "pygments_lexer": "ipython3",
   "version": "3.7.3"
  }
 },
 "nbformat": 4,
 "nbformat_minor": 2
}
