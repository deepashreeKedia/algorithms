{
 "cells": [
  {
   "cell_type": "code",
   "execution_count": 19,
   "metadata": {},
   "outputs": [],
   "source": [
    "def longest_subpalindrome_slice(text):\n",
    "    \"Return (i, j) such that text[i:j] is the longest palindrome in text.\"\n",
    "    if text == '': return (0,0) #edge case\n",
    "    candidates = [grow(text, start, end) for start in range(len(text))\n",
    "                                         for end in (start, start+1)]\n",
    "    return max(candidates, key=length)   "
   ]
  },
  {
   "cell_type": "code",
   "execution_count": 26,
   "metadata": {},
   "outputs": [],
   "source": [
    "def grow(text, start, end):\n",
    "    \"\"\"\n",
    "    Start with a 0 or 1 length palindrome; try to grow a bigger one\n",
    "    \"\"\"\n",
    "    print('start=',start)\n",
    "    print('end=', end)\n",
    "    while (start > 0 and end < len(text) and text[start-1].upper() == text[end].upper()):\n",
    "        start -= 1; end += 1\n",
    "    return (start, end)    "
   ]
  },
  {
   "cell_type": "code",
   "execution_count": 17,
   "metadata": {},
   "outputs": [],
   "source": [
    "def length(indexes):\n",
    "    a,b = indexes\n",
    "    return b-a\n",
    "    "
   ]
  },
  {
   "cell_type": "code",
   "execution_count": 35,
   "metadata": {},
   "outputs": [],
   "source": [
    "def test():\n",
    "    L = longest_subpalindrome_slice\n",
    "    assert L('racecar') == L('Racecar') == L('RacecarX') == (0,7)"
   ]
  },
  {
   "cell_type": "code",
   "execution_count": 27,
   "metadata": {},
   "outputs": [
    {
     "name": "stdout",
     "output_type": "stream",
     "text": [
      "start= 0\n",
      "end= 0\n",
      "start= 0\n",
      "end= 1\n",
      "start= 1\n",
      "end= 1\n",
      "start= 1\n",
      "end= 2\n",
      "start= 2\n",
      "end= 2\n",
      "start= 2\n",
      "end= 3\n",
      "start= 3\n",
      "end= 3\n",
      "start= 3\n",
      "end= 4\n"
     ]
    },
    {
     "data": {
      "text/plain": [
       "(1, 3)"
      ]
     },
     "execution_count": 27,
     "metadata": {},
     "output_type": "execute_result"
    }
   ],
   "source": [
    "longest_subpalindrome_slice('pbba')"
   ]
  },
  {
   "cell_type": "code",
   "execution_count": 33,
   "metadata": {},
   "outputs": [
    {
     "name": "stdout",
     "output_type": "stream",
     "text": [
      "start= 0\n",
      "end= 0\n",
      "start= 0\n",
      "end= 1\n",
      "start= 1\n",
      "end= 1\n",
      "start= 1\n",
      "end= 2\n",
      "start= 2\n",
      "end= 2\n",
      "start= 2\n",
      "end= 3\n",
      "start= 3\n",
      "end= 3\n",
      "start= 3\n",
      "end= 4\n",
      "start= 4\n",
      "end= 4\n",
      "start= 4\n",
      "end= 5\n"
     ]
    },
    {
     "data": {
      "text/plain": [
       "(0, 5)"
      ]
     },
     "execution_count": 33,
     "metadata": {},
     "output_type": "execute_result"
    }
   ],
   "source": [
    "longest_subpalindrome_slice('abcba')"
   ]
  },
  {
   "cell_type": "code",
   "execution_count": null,
   "metadata": {},
   "outputs": [],
   "source": []
  }
 ],
 "metadata": {
  "kernelspec": {
   "display_name": "Python 3",
   "language": "python",
   "name": "python3"
  },
  "language_info": {
   "codemirror_mode": {
    "name": "ipython",
    "version": 3
   },
   "file_extension": ".py",
   "mimetype": "text/x-python",
   "name": "python",
   "nbconvert_exporter": "python",
   "pygments_lexer": "ipython3",
   "version": "3.7.3"
  }
 },
 "nbformat": 4,
 "nbformat_minor": 2
}
